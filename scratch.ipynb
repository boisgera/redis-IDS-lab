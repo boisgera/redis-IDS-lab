{
 "cells": [
  {
   "cell_type": "code",
   "execution_count": 1,
   "id": "e0bdb196-b6ad-4053-b943-830cc7e85beb",
   "metadata": {},
   "outputs": [],
   "source": [
    "from inbox import *"
   ]
  },
  {
   "cell_type": "code",
   "execution_count": 2,
   "id": "937951ab-adce-4da2-be34-5af22650d8c6",
   "metadata": {},
   "outputs": [],
   "source": [
    "fetch()"
   ]
  },
  {
   "cell_type": "code",
   "execution_count": 3,
   "id": "30fbfeb8-af7a-4251-8ea4-2e4ed46a1cfc",
   "metadata": {},
   "outputs": [
    {
     "data": {
      "text/plain": [
       "[]"
      ]
     },
     "execution_count": 3,
     "metadata": {},
     "output_type": "execute_result"
    }
   ],
   "source": [
    "inbox"
   ]
  },
  {
   "cell_type": "code",
   "execution_count": 4,
   "id": "c44d2133-813c-4980-817c-fc6c2d032599",
   "metadata": {},
   "outputs": [],
   "source": [
    "send({\"from\": \"boisgera\", \"to\": \"boisgera\", \"subject\": \"\", \"body\":\"Hello!\"})"
   ]
  },
  {
   "cell_type": "code",
   "execution_count": 5,
   "id": "a7f44bd8-d675-48c3-8a18-57b4939e2744",
   "metadata": {},
   "outputs": [],
   "source": [
    "fetch()"
   ]
  },
  {
   "cell_type": "code",
   "execution_count": 6,
   "id": "38cdbfa9-d070-4b3f-9ebb-ce3ed82d0a6d",
   "metadata": {},
   "outputs": [
    {
     "data": {
      "text/plain": [
       "[{'from': 'boisgera', 'to': 'boisgera', 'subject': '', 'body': 'Hello!'}]"
      ]
     },
     "execution_count": 6,
     "metadata": {},
     "output_type": "execute_result"
    }
   ],
   "source": [
    "inbox"
   ]
  },
  {
   "cell_type": "code",
   "execution_count": 8,
   "id": "2668a578-e0b5-4105-93ca-8e7843c7d646",
   "metadata": {},
   "outputs": [
    {
     "data": {
      "text/plain": [
       "[{'from': 'inbox', 'to': 'boisgera', 'subject': 'rien', 'body': 'Hi !'},\n",
       " {'from': 'Test',\n",
       "  'to': 'boisgera',\n",
       "  'object': 'Test',\n",
       "  'body': 'WorkInProgress'}]"
      ]
     },
     "execution_count": 8,
     "metadata": {},
     "output_type": "execute_result"
    }
   ],
   "source": [
    "inbox[:] = [] ; fetch(); inbox"
   ]
  },
  {
   "cell_type": "code",
   "execution_count": 9,
   "id": "bcd677fe-2555-417b-846b-7f16e198208b",
   "metadata": {},
   "outputs": [],
   "source": [
    "send({\"from\": \"boisgera\", \"to\": \"inbox\", \"subject\": \"\", \"body\":\"Hello inbox!\"})"
   ]
  },
  {
   "cell_type": "code",
   "execution_count": 10,
   "id": "d27a7324-ce66-4da9-9f22-ef231f9aef1f",
   "metadata": {},
   "outputs": [
    {
     "data": {
      "text/plain": [
       "[{'from': 'Test',\n",
       "  'to': 'boisgera',\n",
       "  'object': 'Test',\n",
       "  'body': 'WorkInProgress'}]"
      ]
     },
     "execution_count": 10,
     "metadata": {},
     "output_type": "execute_result"
    }
   ],
   "source": [
    "inbox[:] = [] ; fetch(); inbox"
   ]
  },
  {
   "cell_type": "code",
   "execution_count": 11,
   "id": "62038d09-2ec7-4855-bf02-b75b38c579d3",
   "metadata": {},
   "outputs": [],
   "source": [
    "send({\"from\": \"boisgera\", \"to\": \"Test\", \"subject\": \"\", \"body\":\"Hello Test!\"})"
   ]
  },
  {
   "cell_type": "code",
   "execution_count": 26,
   "id": "e030e324-434d-4ec8-b78d-72b0d96587c5",
   "metadata": {},
   "outputs": [
    {
     "data": {
      "text/plain": [
       "[]"
      ]
     },
     "execution_count": 26,
     "metadata": {},
     "output_type": "execute_result"
    }
   ],
   "source": [
    "inbox[:] = [] ; fetch(); inbox"
   ]
  },
  {
   "cell_type": "code",
   "execution_count": 23,
   "id": "1b8f0ffe-1f31-4600-8afe-2a1942739fa5",
   "metadata": {},
   "outputs": [],
   "source": [
    "send({\"from\": \"boisgera\", \"to\": \"cyjoly\", \"subject\": \"\", \"body\":\"Hello cyjoly!\"})"
   ]
  },
  {
   "cell_type": "code",
   "execution_count": null,
   "id": "6a59ff0e-7db2-4a9f-bfba-9e003b468cf6",
   "metadata": {},
   "outputs": [],
   "source": []
  }
 ],
 "metadata": {
  "kernelspec": {
   "display_name": "Python 3 (ipykernel)",
   "language": "python",
   "name": "python3"
  },
  "language_info": {
   "codemirror_mode": {
    "name": "ipython",
    "version": 3
   },
   "file_extension": ".py",
   "mimetype": "text/x-python",
   "name": "python",
   "nbconvert_exporter": "python",
   "pygments_lexer": "ipython3",
   "version": "3.12.0"
  }
 },
 "nbformat": 4,
 "nbformat_minor": 5
}
