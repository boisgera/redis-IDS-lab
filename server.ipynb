{
 "cells": [
  {
   "cell_type": "code",
   "execution_count": 14,
   "id": "91610d82-3fad-417e-bfc3-0956d2f37e2b",
   "metadata": {},
   "outputs": [],
   "source": [
    "# Python Standard Library\n",
    "import json\n",
    "import math\n",
    "import cloudpickle as pickle\n",
    "import pickletools\n",
    "import subprocess\n",
    "import sys\n",
    "import time\n",
    "from threading import TIMEOUT_MAX\n",
    "import uuid\n",
    "\n",
    "# Third-Party Library\n",
    "import redis"
   ]
  },
  {
   "cell_type": "code",
   "execution_count": 2,
   "id": "02a86322-ef49-4311-822e-e8c5713c5785",
   "metadata": {},
   "outputs": [
    {
     "name": "stdout",
     "output_type": "stream",
     "text": [
      "Redis<ConnectionPool<Connection<host=redis-14706.c275.us-east-1-4.ec2.cloud.redislabs.com,port=14706,db=0>>>\n"
     ]
    },
    {
     "data": {
      "text/plain": [
       "True"
      ]
     },
     "execution_count": 2,
     "metadata": {},
     "output_type": "execute_result"
    }
   ],
   "source": [
    "r = redis.Redis(\n",
    "      host='redis-14706.c275.us-east-1-4.ec2.cloud.redislabs.com',\n",
    "      port=14706,\n",
    "      password=\"w84kju6EutdIMHOQXyAvC2kefA1SGQpx\"\n",
    ")\n",
    "print(r)\n",
    "r.ping()"
   ]
  },
  {
   "cell_type": "code",
   "execution_count": 3,
   "id": "b27458ae-969f-4532-84c4-f610f744f7c2",
   "metadata": {},
   "outputs": [
    {
     "data": {
      "text/plain": [
       "<redis.client.PubSub at 0x7f5d3dfb4c90>"
      ]
     },
     "execution_count": 3,
     "metadata": {},
     "output_type": "execute_result"
    }
   ],
   "source": [
    "p = r.pubsub()\n",
    "p"
   ]
  },
  {
   "cell_type": "code",
   "execution_count": 4,
   "id": "63c5b817-2163-4cbc-a80a-0b1c89a25fdf",
   "metadata": {},
   "outputs": [],
   "source": [
    "p.subscribe(\"boisgera\")"
   ]
  },
  {
   "cell_type": "code",
   "execution_count": 5,
   "id": "311f1e7f-2547-45b4-94d5-71bfc114bb51",
   "metadata": {},
   "outputs": [
    {
     "data": {
      "text/plain": [
       "{'type': 'subscribe', 'pattern': None, 'channel': b'boisgera', 'data': 1}"
      ]
     },
     "execution_count": 5,
     "metadata": {},
     "output_type": "execute_result"
    }
   ],
   "source": [
    "time.sleep(1.0)\n",
    "p.get_message()"
   ]
  },
  {
   "cell_type": "code",
   "execution_count": 8,
   "id": "96f07379-81c3-4c0f-a06e-71d3cf329b24",
   "metadata": {},
   "outputs": [
    {
     "data": {
      "text/plain": [
       "1"
      ]
     },
     "execution_count": 8,
     "metadata": {},
     "output_type": "execute_result"
    }
   ],
   "source": [
    "raw = pickle.dumps({\"function\": f, \"args\": [math.pi/4], \"id\": uuid.uuid4().hex, \"reply-to\": \"boisgera\"})\n",
    "#print(pickletools.dis(raw))\n",
    "r.publish(\"joly\", raw)"
   ]
  },
  {
   "cell_type": "code",
   "execution_count": 9,
   "id": "04995404-50bc-4c0a-9c0b-13b13571512c",
   "metadata": {},
   "outputs": [
    {
     "data": {
      "text/plain": [
       "{'type': 'message',\n",
       " 'pattern': None,\n",
       " 'channel': b'boisgera',\n",
       " 'data': b'\\x80\\x05\\x95?\\x00\\x00\\x00\\x00\\x00\\x00\\x00}\\x94(\\x8c\\x06result\\x94G?\\xe5\\xfa\\x9c\\xdb\\xb3\\xfe\\xdf\\x8c\\x02id\\x94\\x8c c68a1bc412bd4c12ad790bc912ca460a\\x94u.'}"
      ]
     },
     "execution_count": 9,
     "metadata": {},
     "output_type": "execute_result"
    }
   ],
   "source": [
    "p.get_message()"
   ]
  },
  {
   "cell_type": "code",
   "execution_count": 10,
   "id": "324d12c8-858d-48df-ba9a-834d526225dc",
   "metadata": {},
   "outputs": [],
   "source": [
    "data = _[\"data\"]"
   ]
  },
  {
   "cell_type": "code",
   "execution_count": 11,
   "id": "f1ca5872-7e3d-4ca2-a0a0-dac4265ea225",
   "metadata": {},
   "outputs": [
    {
     "data": {
      "text/plain": [
       "{'result': 0.6868423739506077, 'id': 'c68a1bc412bd4c12ad790bc912ca460a'}"
      ]
     },
     "execution_count": 11,
     "metadata": {},
     "output_type": "execute_result"
    }
   ],
   "source": [
    "pickle.loads(data)"
   ]
  },
  {
   "cell_type": "code",
   "execution_count": 12,
   "id": "aaa3928b-4a5d-4f53-9c44-55f1efd347bd",
   "metadata": {},
   "outputs": [
    {
     "data": {
      "text/plain": [
       "0.6868423739506077"
      ]
     },
     "execution_count": 12,
     "metadata": {},
     "output_type": "execute_result"
    }
   ],
   "source": [
    "def f(x):\n",
    "    return 1.0 / (1.0 + math.exp(-x))\n",
    "f(math.pi/4)"
   ]
  },
  {
   "cell_type": "code",
   "execution_count": null,
   "id": "71f388b7-d22f-403c-b14b-7735d903824d",
   "metadata": {},
   "outputs": [],
   "source": [
    "pickle.loads(f_raw)"
   ]
  },
  {
   "cell_type": "code",
   "execution_count": null,
   "id": "6874d96a-7fe2-4a29-9456-ced7865d7f72",
   "metadata": {},
   "outputs": [],
   "source": [
    "_(5.0)"
   ]
  },
  {
   "cell_type": "code",
   "execution_count": 17,
   "id": "34b671d1-88f2-4e1a-933a-157da54fe41c",
   "metadata": {},
   "outputs": [
    {
     "name": "stdout",
     "output_type": "stream",
     "text": [
      "worker_channel = b'54683'\n",
      "c74b7a8c200a40a5bacf90dc0d2b9195\n"
     ]
    },
    {
     "data": {
      "text/plain": [
       "1"
      ]
     },
     "execution_count": 17,
     "metadata": {},
     "output_type": "execute_result"
    }
   ],
   "source": [
    "worker = subprocess.Popen(\n",
    "            [sys.executable, \"worker.py\", \"boisgera\"],  \n",
    "            stdout=subprocess.PIPE\n",
    ")\n",
    "worker_channel = next(worker.stdout).strip() # Fragile?\n",
    "\n",
    "print(f\"{worker_channel = }\")\n",
    "\n",
    "id_ = uuid.uuid4().hex\n",
    "print(id_)\n",
    "raw = pickle.dumps({\"function\": f, \"args\": [math.pi/4], \"id\": id_})\n",
    "#print(pickletools.dis(raw))\n",
    "r.publish(worker_channel, raw)"
   ]
  },
  {
   "cell_type": "code",
   "execution_count": 18,
   "id": "db568acf-5d92-49bd-8887-03c02dd18bd0",
   "metadata": {},
   "outputs": [],
   "source": [
    "m = p.get_message()"
   ]
  },
  {
   "cell_type": "code",
   "execution_count": 19,
   "id": "9dd462e9-b70f-4f8a-93ef-103ecf8d1439",
   "metadata": {},
   "outputs": [
    {
     "data": {
      "text/plain": [
       "{'type': 'message',\n",
       " 'pattern': None,\n",
       " 'channel': b'boisgera',\n",
       " 'data': b'\\x80\\x05\\x95?\\x00\\x00\\x00\\x00\\x00\\x00\\x00}\\x94(\\x8c\\x06result\\x94G?\\xe5\\xfa\\x9c\\xdb\\xb3\\xfe\\xdf\\x8c\\x02id\\x94\\x8c c74b7a8c200a40a5bacf90dc0d2b9195\\x94u.'}"
      ]
     },
     "execution_count": 19,
     "metadata": {},
     "output_type": "execute_result"
    }
   ],
   "source": [
    "m"
   ]
  },
  {
   "cell_type": "code",
   "execution_count": 20,
   "id": "19b394cb-2b54-46e3-a365-d3be31efebed",
   "metadata": {},
   "outputs": [
    {
     "data": {
      "text/plain": [
       "{'result': 0.6868423739506077, 'id': 'c74b7a8c200a40a5bacf90dc0d2b9195'}"
      ]
     },
     "execution_count": 20,
     "metadata": {},
     "output_type": "execute_result"
    }
   ],
   "source": [
    "pickle.loads(m[\"data\"])"
   ]
  },
  {
   "cell_type": "code",
   "execution_count": null,
   "id": "153c092d-39dd-4dc0-9198-a770757b16bc",
   "metadata": {},
   "outputs": [],
   "source": []
  }
 ],
 "metadata": {
  "kernelspec": {
   "display_name": "Python 3 (ipykernel)",
   "language": "python",
   "name": "python3"
  },
  "language_info": {
   "codemirror_mode": {
    "name": "ipython",
    "version": 3
   },
   "file_extension": ".py",
   "mimetype": "text/x-python",
   "name": "python",
   "nbconvert_exporter": "python",
   "pygments_lexer": "ipython3",
   "version": "3.11.0"
  }
 },
 "nbformat": 4,
 "nbformat_minor": 5
}
